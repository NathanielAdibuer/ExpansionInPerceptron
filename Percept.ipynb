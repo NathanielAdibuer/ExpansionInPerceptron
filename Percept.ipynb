{
 "cells": [
  {
   "cell_type": "code",
   "execution_count": 2,
   "id": "62ab8b34",
   "metadata": {},
   "outputs": [],
   "source": [
    "import numpy as np\n",
    "import matplotlib.pyplot as plt\n",
    "from sklearn import datasets\n",
    "from sklearn.model_selection import train_test_split\n",
    "from scipy.linalg import lstsq, inv, pinv\n",
    "from sklearn.linear_model import Ridge"
   ]
  },
  {
   "cell_type": "code",
   "execution_count": 3,
   "id": "77b8326a",
   "metadata": {},
   "outputs": [],
   "source": [
    "num_datapoints = 1000\n",
    "std = 1.0\n",
    "weights_std = 10.0\n",
    "noise_std = 2.0\n",
    "X = np.random.normal(0,std, (num_datapoints,1))\n",
    "X = np.hstack([np.ones(X.shape), X, X**2, X**3])\n",
    "ground_truth_weights = np.random.normal(0, weights_std, (X.shape[1], 1))\n",
    "noise = np.random.normal(0, noise_std, (num_datapoints, 1))\n",
    "\n",
    "y = X @ ground_truth_weights + noise"
   ]
  },
  {
   "cell_type": "code",
   "execution_count": 4,
   "id": "29f18ea3",
   "metadata": {},
   "outputs": [],
   "source": [
    "def run_experiment(X, y, sparsity_percentage = 0.9, num_hidden = 100, weight_variances = 1, train_percentage = 0.7, doHebbian = False):\n",
    "    j = np.random.normal(0, weight_variances, (X.shape[1], num_hidden))\n",
    "    j_mask = np.random.rand(X.shape[1], num_hidden) > sparsity_percentage\n",
    "    j_mask = j_mask.astype(np.float32)\n",
    "    j = j * j_mask\n",
    "    h = np.heaviside(X @ j, 0)\n",
    "    X_train = X[:int(train_percentage * X.shape[0])]\n",
    "    h_train = h[:int(train_percentage * h.shape[0])]\n",
    "    y_train = y[:int(train_percentage * y.shape[0])]\n",
    "    X_test = X[int(train_percentage * X.shape[0]):]\n",
    "    h_test = h[int(train_percentage * h.shape[0]):]\n",
    "    y_test = y[int(train_percentage * y.shape[0]):]\n",
    "    \n",
    "#     if doHebbian:# Hebbian learning \n",
    "#         h_train = h_train - np.mean(h_train, axis=1)[:, np.newaxis]\n",
    "#         h_test = h_test - np.mean(h_test, axis=1)[:, np.newaxis] # use mean-subtracted activations for testing too\n",
    "#         W = h_train.T @ y_train\n",
    "\n",
    "    W = pinv(h_train.T @ h_train) @ h_train.T @ y_train\n",
    "\n",
    "#     else: # pseudoinverse\n",
    "#         alpha = 0.1\n",
    "#         clf = Ridge(alpha=alpha, fit_intercept=False)\n",
    "#         clf.fit(h_train.T, y_train.T)\n",
    "#         W = clf.coef_.T\n",
    "        \n",
    "    ypred_test = h_test @ W #reading out from  expansion layer \n",
    "\n",
    "    #compute error rate (Fraction incorrect)\n",
    "    #err = (1 / y_test.shape[0]) * np.sum(1 - (ypred_test == y_test).astype(int))\n",
    "    err = (1 / y_test.shape[0]) * np.mean((ypred_test - y_test)**2)\n",
    "    \n",
    "    return err"
   ]
  },
  {
   "cell_type": "code",
   "execution_count": null,
   "id": "2d1d2d79",
   "metadata": {},
   "outputs": [
    {
     "name": "stdout",
     "output_type": "stream",
     "text": [
      "h size =  1\n",
      "h size =  2\n",
      "h size =  4\n",
      "h size =  10\n",
      "h size =  21\n",
      "h size =  46\n",
      "h size =  100\n",
      "h size =  215\n",
      "h size =  464\n",
      "h size =  1000\n"
     ]
    }
   ],
   "source": [
    "num_repeat = 300\n",
    "#h_sizes = [10,20,30,40,50,60,70,80,90,100]\n",
    "h_sizes = np.logspace(0, 3, 10).astype(int)\n",
    "errors = np.zeros((len(h_sizes), num_repeat))\n",
    "\n",
    "for i in range(len(h_sizes)):\n",
    "    print('h size = ', h_sizes[i])\n",
    "    for j in range(num_repeat):  \n",
    "        \n",
    "        errors[i, j] = run_experiment(X, y, num_hidden = h_sizes[i])"
   ]
  },
  {
   "cell_type": "code",
   "execution_count": null,
   "id": "142c3eb5",
   "metadata": {},
   "outputs": [],
   "source": [
    "h_means = np.mean(errors, axis = 1)\n",
    "h_std = np.std(errors, axis = 1)\n",
    "plt.plot(h_sizes, h_means, label = 'means')\n",
    "plt.ylabel('Average Error')\n",
    "plt.xlabel('Hidden Size')\n",
    "plt.fill_between(h_sizes, h_means - h_std, h_means + h_std, alpha = 0.1)\n",
    "plt.legend()"
   ]
  },
  {
   "cell_type": "code",
   "execution_count": 13,
   "id": "5d9674a2",
   "metadata": {},
   "outputs": [],
   "source": [
    "num_repeat = 3\n",
    "sparsity_percentages = [0.2,0.4,0.6,0.8]\n",
    "errors = np.zeros((len(sparsity_percentages), num_repeat))\n",
    "\n",
    "for i in range(len(sparsity_percentages)): \n",
    "    for j in range(num_repeat):  \n",
    "        errors[i, j] = run_experiment(X, y, sparsity_percentage = sparsity_percentages[i])"
   ]
  },
  {
   "cell_type": "code",
   "execution_count": 15,
   "id": "2a525316",
   "metadata": {},
   "outputs": [
    {
     "data": {
      "text/plain": [
       "<matplotlib.legend.Legend at 0x7fd23f349d00>"
      ]
     },
     "execution_count": 15,
     "metadata": {},
     "output_type": "execute_result"
    },
    {
     "data": {
      "image/png": "[encoded data removed]",
      "text/plain": [
       "<Figure size 432x288 with 1 Axes>"
      ]
     },
     "metadata": {
      "needs_background": "light"
     },
     "output_type": "display_data"
    }
   ],
   "source": [
    "s_means = np.mean(errors, axis = 1)\n",
    "s_std = np.std(errors, axis = 1)\n",
    "plt.plot(sparsity_percentages, s_means, label = 'means')\n",
    "plt.ylabel('Average Error')\n",
    "plt.xlabel('Hidden Size')\n",
    "plt.fill_between(sparsity_percentages, s_means - s_std, s_means + s_std, alpha = 0.1)\n",
    "plt.legend()"
   ]
  }
 ],
 "metadata": {
  "kernelspec": {
   "display_name": "Python 3 (ipykernel)",
   "language": "python",
   "name": "python3"
  },
  "language_info": {
   "codemirror_mode": {
    "name": "ipython",
    "version": 3
   },
   "file_extension": ".py",
   "mimetype": "text/x-python",
   "name": "python",
   "nbconvert_exporter": "python",
   "pygments_lexer": "ipython3",
   "version": "3.9.12"
  }
 },
 "nbformat": 4,
 "nbformat_minor": 5
}
